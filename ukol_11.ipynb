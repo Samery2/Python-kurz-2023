{
 "cells": [
  {
   "cell_type": "code",
   "execution_count": 41,
   "metadata": {},
   "outputs": [],
   "source": [
    "import pandas as pd\n",
    "import matplotlib.pyplot as plt\n",
    "import numpy as np"
   ]
  },
  {
   "cell_type": "code",
   "execution_count": 42,
   "metadata": {},
   "outputs": [
    {
     "data": {
      "text/html": [
       "<div>\n",
       "<style scoped>\n",
       "    .dataframe tbody tr th:only-of-type {\n",
       "        vertical-align: middle;\n",
       "    }\n",
       "\n",
       "    .dataframe tbody tr th {\n",
       "        vertical-align: top;\n",
       "    }\n",
       "\n",
       "    .dataframe thead th {\n",
       "        text-align: right;\n",
       "    }\n",
       "</style>\n",
       "<table border=\"1\" class=\"dataframe\">\n",
       "  <thead>\n",
       "    <tr style=\"text-align: right;\">\n",
       "      <th></th>\n",
       "      <th>cislo_zamestnance</th>\n",
       "      <th>plat</th>\n",
       "    </tr>\n",
       "  </thead>\n",
       "  <tbody>\n",
       "    <tr>\n",
       "      <th>0</th>\n",
       "      <td>3</td>\n",
       "      <td>54900.0</td>\n",
       "    </tr>\n",
       "    <tr>\n",
       "      <th>1</th>\n",
       "      <td>6</td>\n",
       "      <td>54800.0</td>\n",
       "    </tr>\n",
       "    <tr>\n",
       "      <th>2</th>\n",
       "      <td>7</td>\n",
       "      <td>36400.0</td>\n",
       "    </tr>\n",
       "    <tr>\n",
       "      <th>3</th>\n",
       "      <td>8</td>\n",
       "      <td>47900.0</td>\n",
       "    </tr>\n",
       "    <tr>\n",
       "      <th>4</th>\n",
       "      <td>16</td>\n",
       "      <td>34200.0</td>\n",
       "    </tr>\n",
       "  </tbody>\n",
       "</table>\n",
       "</div>"
      ],
      "text/plain": [
       "   cislo_zamestnance     plat\n",
       "0                  3  54900.0\n",
       "1                  6  54800.0\n",
       "2                  7  36400.0\n",
       "3                  8  47900.0\n",
       "4                 16  34200.0"
      ]
     },
     "execution_count": 42,
     "metadata": {},
     "output_type": "execute_result"
    }
   ],
   "source": [
    "platy = pd.read_csv(\"platy_2021_02.csv\").dropna()\n",
    "platy.head(5)"
   ]
  },
  {
   "cell_type": "code",
   "execution_count": 43,
   "metadata": {},
   "outputs": [
    {
     "data": {
      "text/plain": [
       "Text(0, 0.5, 'Počet zaměstnanců s daným platem')"
      ]
     },
     "execution_count": 43,
     "metadata": {},
     "output_type": "execute_result"
    },
    {
     "data": {
      "image/png": "[encoded data removed]",
      "text/plain": [
       "<Figure size 640x480 with 1 Axes>"
      ]
     },
     "metadata": {},
     "output_type": "display_data"
    }
   ],
   "source": [
    "platy.hist(\"plat\", bins=range(29500, 61500, 1000))\n",
    "plt.title('Platy zaměstnanců 2021')\n",
    "plt.xlabel('Plat zaměstnanců')\n",
    "plt.ylabel('Počet zaměstnanců s daným platem')"
   ]
  },
  {
   "cell_type": "code",
   "execution_count": 44,
   "metadata": {},
   "outputs": [
    {
     "data": {
      "text/html": [
       "<div>\n",
       "<style scoped>\n",
       "    .dataframe tbody tr th:only-of-type {\n",
       "        vertical-align: middle;\n",
       "    }\n",
       "\n",
       "    .dataframe tbody tr th {\n",
       "        vertical-align: top;\n",
       "    }\n",
       "\n",
       "    .dataframe thead th {\n",
       "        text-align: right;\n",
       "    }\n",
       "</style>\n",
       "<table border=\"1\" class=\"dataframe\">\n",
       "  <thead>\n",
       "    <tr style=\"text-align: right;\">\n",
       "      <th></th>\n",
       "      <th>Region</th>\n",
       "      <th>Country</th>\n",
       "      <th>City</th>\n",
       "      <th>Day</th>\n",
       "      <th>AvgTemperature</th>\n",
       "    </tr>\n",
       "  </thead>\n",
       "  <tbody>\n",
       "    <tr>\n",
       "      <th>0</th>\n",
       "      <td>Africa</td>\n",
       "      <td>Algeria</td>\n",
       "      <td>Algiers</td>\n",
       "      <td>1</td>\n",
       "      <td>62.0</td>\n",
       "    </tr>\n",
       "    <tr>\n",
       "      <th>1</th>\n",
       "      <td>Africa</td>\n",
       "      <td>Algeria</td>\n",
       "      <td>Algiers</td>\n",
       "      <td>2</td>\n",
       "      <td>62.2</td>\n",
       "    </tr>\n",
       "    <tr>\n",
       "      <th>2</th>\n",
       "      <td>Africa</td>\n",
       "      <td>Algeria</td>\n",
       "      <td>Algiers</td>\n",
       "      <td>3</td>\n",
       "      <td>65.7</td>\n",
       "    </tr>\n",
       "    <tr>\n",
       "      <th>3</th>\n",
       "      <td>Africa</td>\n",
       "      <td>Algeria</td>\n",
       "      <td>Algiers</td>\n",
       "      <td>4</td>\n",
       "      <td>69.8</td>\n",
       "    </tr>\n",
       "    <tr>\n",
       "      <th>4</th>\n",
       "      <td>Africa</td>\n",
       "      <td>Algeria</td>\n",
       "      <td>Algiers</td>\n",
       "      <td>5</td>\n",
       "      <td>63.8</td>\n",
       "    </tr>\n",
       "  </tbody>\n",
       "</table>\n",
       "</div>"
      ],
      "text/plain": [
       "   Region  Country     City  Day  AvgTemperature\n",
       "0  Africa  Algeria  Algiers    1            62.0\n",
       "1  Africa  Algeria  Algiers    2            62.2\n",
       "2  Africa  Algeria  Algiers    3            65.7\n",
       "3  Africa  Algeria  Algiers    4            69.8\n",
       "4  Africa  Algeria  Algiers    5            63.8"
      ]
     },
     "execution_count": 44,
     "metadata": {},
     "output_type": "execute_result"
    }
   ],
   "source": [
    "teploty = pd.read_csv(\"temperature.csv\").dropna()\n",
    "teploty.head(5)"
   ]
  },
  {
   "cell_type": "code",
   "execution_count": 45,
   "metadata": {},
   "outputs": [
    {
     "data": {
      "text/plain": [
       "array([29.6, 29.5, 35.1, 44.5, 45.5, 43.8, 36. , 38.6, 42.4, 43. , 40.5,\n",
       "       35.7, 34.6, 33.1, 34.4, 36.1, 40.6, 39.8, 37.2, 33. , 32.4, 32.3,\n",
       "       33.5, 41.9, 36. , 33.9, 38.8, 37. , 35.3, 35.7])"
      ]
     },
     "execution_count": 45,
     "metadata": {},
     "output_type": "execute_result"
    }
   ],
   "source": [
    "teplota_Helsinki= teploty[teploty['City'] == 'Helsinki']['AvgTemperature'].values\n",
    "teplota_Helsinki\n"
   ]
  },
  {
   "cell_type": "code",
   "execution_count": 46,
   "metadata": {},
   "outputs": [
    {
     "data": {
      "text/plain": [
       "array([74.6, 76.8, 77.4, 77.4, 77.2, 78.6, 78.8, 79. , 80. , 80.2, 79.1,\n",
       "       80.8, 79.2, 79.7, 75.4, 75. , 73.8, 75.1, 75.2, 74.5, 74.4, 77.3,\n",
       "       77.4, 75.9, 72.1, 73.5, 73.1, 77.5, 77.7, 78. ])"
      ]
     },
     "execution_count": 46,
     "metadata": {},
     "output_type": "execute_result"
    }
   ],
   "source": [
    "teplota_Miami= teploty[teploty['City'] == 'Miami Beach']['AvgTemperature'].values\n",
    "teplota_Miami"
   ]
  },
  {
   "cell_type": "code",
   "execution_count": 47,
   "metadata": {},
   "outputs": [
    {
     "data": {
      "text/plain": [
       "array([59.1, 62.3, 64.1, 59.6, 57. , 60.4, 64. , 62.5, 59. , 62.1, 59.5,\n",
       "       55.1, 56.8, 56.2, 56.7, 53.7, 53.1, 53.5, 48.9, 46.6, 48.2, 48.7,\n",
       "       53.4, 50.3, 50.5, 58.8, 53.8, 53.8, 58.4, 51.5])"
      ]
     },
     "execution_count": 47,
     "metadata": {},
     "output_type": "execute_result"
    }
   ],
   "source": [
    "teplota_Tokyo= teploty[teploty['City'] == 'Tokyo']['AvgTemperature'].values\n",
    "teplota_Tokyo"
   ]
  },
  {
   "cell_type": "code",
   "execution_count": 49,
   "metadata": {},
   "outputs": [
    {
     "data": {
      "text/plain": [
       "{'whiskers': [<matplotlib.lines.Line2D at 0x20068ccb2e0>,\n",
       "  <matplotlib.lines.Line2D at 0x20068ccb580>,\n",
       "  <matplotlib.lines.Line2D at 0x20068d19580>,\n",
       "  <matplotlib.lines.Line2D at 0x20068d19820>,\n",
       "  <matplotlib.lines.Line2D at 0x20068d62820>,\n",
       "  <matplotlib.lines.Line2D at 0x20068d62ac0>],\n",
       " 'caps': [<matplotlib.lines.Line2D at 0x20068ccb820>,\n",
       "  <matplotlib.lines.Line2D at 0x20068ccbac0>,\n",
       "  <matplotlib.lines.Line2D at 0x20068d19ac0>,\n",
       "  <matplotlib.lines.Line2D at 0x20068d19d60>,\n",
       "  <matplotlib.lines.Line2D at 0x20068d62d60>,\n",
       "  <matplotlib.lines.Line2D at 0x20068d6e040>],\n",
       " 'boxes': [<matplotlib.lines.Line2D at 0x20068ccb040>,\n",
       "  <matplotlib.lines.Line2D at 0x20068d192e0>,\n",
       "  <matplotlib.lines.Line2D at 0x20068d62580>],\n",
       " 'medians': [<matplotlib.lines.Line2D at 0x20068ccbd60>,\n",
       "  <matplotlib.lines.Line2D at 0x20068d62040>,\n",
       "  <matplotlib.lines.Line2D at 0x20068d6e2e0>],\n",
       " 'fliers': [<matplotlib.lines.Line2D at 0x20068d19040>,\n",
       "  <matplotlib.lines.Line2D at 0x20068d622e0>,\n",
       "  <matplotlib.lines.Line2D at 0x20068d6e580>],\n",
       " 'means': []}"
      ]
     },
     "execution_count": 49,
     "metadata": {},
     "output_type": "execute_result"
    },
    {
     "data": {
      "image/png": "[encoded data removed]",
      "text/plain": [
       "<Figure size 640x480 with 1 Axes>"
      ]
     },
     "metadata": {},
     "output_type": "display_data"
    }
   ],
   "source": [
    "plt.boxplot([teplota_Helsinki, teplota_Miami, teplota_Tokyo], labels=['Helsinki', 'Miami', 'Tokyo'])"
   ]
  }
 ],
 "metadata": {
  "kernelspec": {
   "display_name": "Python 3",
   "language": "python",
   "name": "python3"
  },
  "language_info": {
   "codemirror_mode": {
    "name": "ipython",
    "version": 3
   },
   "file_extension": ".py",
   "mimetype": "text/x-python",
   "name": "python",
   "nbconvert_exporter": "python",
   "pygments_lexer": "ipython3",
   "version": "3.9.10"
  }
 },
 "nbformat": 4,
 "nbformat_minor": 2
}
